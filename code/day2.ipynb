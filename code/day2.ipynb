{
 "cells": [
  {
   "cell_type": "code",
   "execution_count": 2,
   "id": "d739b55e-ab70-42a2-afe0-ee48bbdd6417",
   "metadata": {},
   "outputs": [],
   "source": [
    "import os"
   ]
  },
  {
   "cell_type": "code",
   "execution_count": 13,
   "id": "23acd109-e0bd-466c-9db6-f48c311c9169",
   "metadata": {},
   "outputs": [
    {
     "name": "stdout",
     "output_type": "stream",
     "text": [
      "11063\n"
     ]
    }
   ],
   "source": [
    "# Part 1\n",
    "with open(os.getcwd()+\"//..//input//inputday2.txt\") as f:\n",
    "    points = 0\n",
    "    conversion_dict = {\"A\": \"X\",\n",
    "                \"B\": \"Y\",\n",
    "                \"C\": \"Z\"}\n",
    "    wins_dict = {\"X\": \"Y\",\n",
    "                \"Y\": \"Z\",\n",
    "                \"Z\": \"X\"}\n",
    "    points_dict = {\"X\": 1,\n",
    "                  \"Y\": 2,\n",
    "                  \"Z\": 3}\n",
    "    for line in f:\n",
    "        \n",
    "        split_line = line.split(\"\\n\")[0].split(\" \")\n",
    "        opp = split_line[0]\n",
    "        me = split_line[1]\n",
    "        \n",
    "        sign_points = points_dict[me]\n",
    "        \n",
    "        if wins_dict[conversion_dict[opp]] == me:\n",
    "            result_points = 6\n",
    "        elif conversion_dict[opp] == me:\n",
    "            result_points = 3\n",
    "        else:\n",
    "            result_points = 0\n",
    "            \n",
    "        points += result_points + sign_points\n",
    "        \n",
    "print(points)"
   ]
  },
  {
   "cell_type": "code",
   "execution_count": 21,
   "id": "1f5363b7-b92f-4e5b-871e-b6914c275987",
   "metadata": {},
   "outputs": [
    {
     "name": "stdout",
     "output_type": "stream",
     "text": [
      "10349\n"
     ]
    }
   ],
   "source": [
    "# Part 2\n",
    "with open(os.getcwd()+\"//..//input//inputday2.txt\") as f:\n",
    "    points = 0\n",
    "    conversion_dict = {\"A\": \"X\",\n",
    "                \"B\": \"Y\",\n",
    "                \"C\": \"Z\"}\n",
    "    wins_dict = {\"X\": \"Y\",\n",
    "                \"Y\": \"Z\",\n",
    "                \"Z\": \"X\"}\n",
    "    lose_dict = {\"X\": \"Z\",\n",
    "                \"Y\": \"X\",\n",
    "                \"Z\": \"Y\"}\n",
    "    points_dict = {\"X\": 1,\n",
    "                  \"Y\": 2,\n",
    "                  \"Z\": 3}\n",
    "    result_dict = {\"X\": \"lose\",\n",
    "                  \"Y\": \"tie\",\n",
    "                  \"Z\": \"win\"}\n",
    "    \n",
    "    for line in f:\n",
    "        \n",
    "        split_line = line.split(\"\\n\")[0].split(\" \")\n",
    "        opp = split_line[0]\n",
    "        me = split_line[1]\n",
    "                \n",
    "        if result_dict[me] == \"lose\":\n",
    "            points += points_dict[lose_dict[conversion_dict[opp]]]\n",
    "        elif result_dict[me] == \"tie\":\n",
    "            points += 3\n",
    "            points += points_dict[conversion_dict[opp]]\n",
    "        else:\n",
    "            points += 6\n",
    "            points += points_dict[wins_dict[conversion_dict[opp]]]\n",
    "            \n",
    "\n",
    "        \n",
    "print(points)"
   ]
  },
  {
   "cell_type": "code",
   "execution_count": null,
   "id": "b1611fab-5b6f-4444-af35-21d27da60792",
   "metadata": {},
   "outputs": [],
   "source": []
  }
 ],
 "metadata": {
  "kernelspec": {
   "display_name": "Python 3",
   "language": "python",
   "name": "python3"
  },
  "language_info": {
   "codemirror_mode": {
    "name": "ipython",
    "version": 3
   },
   "file_extension": ".py",
   "mimetype": "text/x-python",
   "name": "python",
   "nbconvert_exporter": "python",
   "pygments_lexer": "ipython3",
   "version": "3.8.8"
  }
 },
 "nbformat": 4,
 "nbformat_minor": 5
}
