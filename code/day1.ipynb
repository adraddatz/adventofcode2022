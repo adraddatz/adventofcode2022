{
 "cells": [
  {
   "cell_type": "code",
   "execution_count": 26,
   "id": "d739b55e-ab70-42a2-afe0-ee48bbdd6417",
   "metadata": {},
   "outputs": [],
   "source": [
    "import os"
   ]
  },
  {
   "cell_type": "code",
   "execution_count": 38,
   "id": "23acd109-e0bd-466c-9db6-f48c311c9169",
   "metadata": {},
   "outputs": [
    {
     "name": "stdout",
     "output_type": "stream",
     "text": [
      "71300\n"
     ]
    }
   ],
   "source": [
    "# Part 1\n",
    "with open(os.getcwd()+\"//..//input//inputday1.txt\") as f:\n",
    "    elf = list()\n",
    "    elf_sums = list()\n",
    "    for line in f:\n",
    "        if line == \"\\n\":\n",
    "            elf_sums.append(sum(elf))\n",
    "            elf = list()\n",
    "        else:\n",
    "            elf.append(int(line))\n",
    "elf_sums.sort()\n",
    "print(elf_sums[-1])"
   ]
  },
  {
   "cell_type": "code",
   "execution_count": 36,
   "id": "c46cf832-ff98-421a-9326-8feb4cf0e302",
   "metadata": {},
   "outputs": [
    {
     "data": {
      "text/plain": [
       "209691"
      ]
     },
     "execution_count": 36,
     "metadata": {},
     "output_type": "execute_result"
    }
   ],
   "source": [
    "# Part 2\n",
    "with open(os.getcwd()+\"//..//input//inputday1.txt\") as f:\n",
    "    elf = list()\n",
    "    elf_sums = list()\n",
    "    for line in f:\n",
    "        if line == \"\\n\":\n",
    "            elf_sums.append(sum(elf))\n",
    "            elf = list()\n",
    "        else:\n",
    "            elf.append(int(line))\n",
    "elf_sums.sort()\n",
    "sum(elf_sums[-3:])"
   ]
  }
 ],
 "metadata": {
  "kernelspec": {
   "display_name": "Python 3",
   "language": "python",
   "name": "python3"
  },
  "language_info": {
   "codemirror_mode": {
    "name": "ipython",
    "version": 3
   },
   "file_extension": ".py",
   "mimetype": "text/x-python",
   "name": "python",
   "nbconvert_exporter": "python",
   "pygments_lexer": "ipython3",
   "version": "3.8.8"
  }
 },
 "nbformat": 4,
 "nbformat_minor": 5
}
