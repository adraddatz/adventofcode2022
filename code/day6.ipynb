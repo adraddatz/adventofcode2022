{
 "cells": [
  {
   "cell_type": "code",
   "execution_count": 1,
   "id": "d693ac72",
   "metadata": {},
   "outputs": [],
   "source": [
    "import os\n",
    "from itertools import islice\n",
    "import re"
   ]
  },
  {
   "cell_type": "code",
   "execution_count": 31,
   "id": "18b159a7",
   "metadata": {},
   "outputs": [
    {
     "name": "stdout",
     "output_type": "stream",
     "text": [
      "1538\n"
     ]
    }
   ],
   "source": [
    "# Part 1\n",
    "with open(os.getcwd()+\"//..//input//inputday6.txt\") as f:\n",
    "    current_four = []\n",
    "    for line in f:\n",
    "        for ix, letter in enumerate(line):\n",
    "            #print(letter)\n",
    "            #print(current_four)\n",
    "            if ix > 3:\n",
    "                duplicate = False\n",
    "                for ix2, check_letter in enumerate(current_four):\n",
    "                    for ix3, second_letter in enumerate(current_four[ix2+1:]):\n",
    "                        #print(check_letter, second_letter)\n",
    "                        if check_letter == second_letter:\n",
    "                            duplicate = True\n",
    "                if duplicate == False:\n",
    "                    value = ix\n",
    "                    break\n",
    "                current_four.pop(0)\n",
    "            current_four.append(letter)\n",
    "\n",
    "print(value)     "
   ]
  },
  {
   "cell_type": "code",
   "execution_count": 32,
   "id": "bd92d011",
   "metadata": {},
   "outputs": [
    {
     "name": "stdout",
     "output_type": "stream",
     "text": [
      "2315\n"
     ]
    }
   ],
   "source": [
    "# Part 2\n",
    "with open(os.getcwd()+\"//..//input//inputday6.txt\") as f:\n",
    "    current_four = []\n",
    "    for line in f:\n",
    "        for ix, letter in enumerate(line):\n",
    "            #print(letter)\n",
    "            #print(current_four)\n",
    "            if ix > 13:\n",
    "                duplicate = False\n",
    "                for ix2, check_letter in enumerate(current_four):\n",
    "                    for ix3, second_letter in enumerate(current_four[ix2+1:]):\n",
    "                        #print(check_letter, second_letter)\n",
    "                        if check_letter == second_letter:\n",
    "                            duplicate = True\n",
    "                if duplicate == False:\n",
    "                    value = ix\n",
    "                    break\n",
    "                current_four.pop(0)\n",
    "            current_four.append(letter)\n",
    "\n",
    "print(value)   "
   ]
  },
  {
   "cell_type": "code",
   "execution_count": null,
   "id": "ad9cbdf7-eebf-4a8f-82aa-b283683c1600",
   "metadata": {},
   "outputs": [],
   "source": []
  }
 ],
 "metadata": {
  "kernelspec": {
   "display_name": "Python 3",
   "language": "python",
   "name": "python3"
  },
  "language_info": {
   "codemirror_mode": {
    "name": "ipython",
    "version": 3
   },
   "file_extension": ".py",
   "mimetype": "text/x-python",
   "name": "python",
   "nbconvert_exporter": "python",
   "pygments_lexer": "ipython3",
   "version": "3.8.8"
  }
 },
 "nbformat": 4,
 "nbformat_minor": 5
}
