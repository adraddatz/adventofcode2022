{
 "cells": [
  {
   "cell_type": "code",
   "execution_count": 36,
   "metadata": {},
   "outputs": [],
   "source": [
    "import os\n",
    "from itertools import islice\n",
    "import re"
   ]
  },
  {
   "cell_type": "code",
   "execution_count": 37,
   "metadata": {},
   "outputs": [
    {
     "name": "stdout",
     "output_type": "stream",
     "text": [
      "VPCDMSLWJ\n"
     ]
    }
   ],
   "source": [
    "# Part 1\n",
    "stack1 = [\"N\",\"R\",\"G\",\"P\"]\n",
    "stack2 = [\"J\",\"T\",\"B\",\"L\",\"F\",\"G\",\"D\",\"C\"]\n",
    "stack3 = [\"M\",\"S\",\"V\"]\n",
    "stack4 = [\"L\",\"S\",\"R\",\"C\",\"Z\",\"P\"]\n",
    "stack5 = [\"P\",\"S\",\"L\",\"V\",\"C\",\"W\",\"D\",\"Q\"]\n",
    "stack6 = [\"C\",\"T\",\"N\",\"W\",\"D\",\"M\",\"S\"]\n",
    "stack7 = [\"H\",\"D\",\"G\",\"W\",\"P\"]\n",
    "stack8 = [\"Z\",\"L\",\"P\",\"H\",\"S\",\"C\",\"M\",\"V\"]\n",
    "stack9 = [\"R\",\"P\",\"F\",\"L\",\"W\",\"G\",\"Z\"]\n",
    "stacks = [stack1,stack2,stack3,stack4,stack5,stack6,stack7,stack8,stack9]\n",
    "with open(os.getcwd()+\"//..//input//inputday5.txt\") as f:\n",
    "    for line in islice(f,10,None):\n",
    "        num_boxes_to_move,take_stack,give_stack = re.findall(r'\\d+', line)\n",
    "        for box in range(int(num_boxes_to_move)):\n",
    "            stacks[int(give_stack)-1].append(stacks[int(take_stack)-1].pop(-1))\n",
    "top_boxes = \"\"\n",
    "for stack in stacks:\n",
    "    top_boxes = top_boxes + stack[-1]\n",
    "print(top_boxes)"
   ]
  },
  {
   "cell_type": "code",
   "execution_count": 38,
   "metadata": {},
   "outputs": [
    {
     "name": "stdout",
     "output_type": "stream",
     "text": [
      "TPWCGNCCG\n"
     ]
    }
   ],
   "source": [
    "# Part 2\n",
    "stack1 = [\"N\",\"R\",\"G\",\"P\"]\n",
    "stack2 = [\"J\",\"T\",\"B\",\"L\",\"F\",\"G\",\"D\",\"C\"]\n",
    "stack3 = [\"M\",\"S\",\"V\"]\n",
    "stack4 = [\"L\",\"S\",\"R\",\"C\",\"Z\",\"P\"]\n",
    "stack5 = [\"P\",\"S\",\"L\",\"V\",\"C\",\"W\",\"D\",\"Q\"]\n",
    "stack6 = [\"C\",\"T\",\"N\",\"W\",\"D\",\"M\",\"S\"]\n",
    "stack7 = [\"H\",\"D\",\"G\",\"W\",\"P\"]\n",
    "stack8 = [\"Z\",\"L\",\"P\",\"H\",\"S\",\"C\",\"M\",\"V\"]\n",
    "stack9 = [\"R\",\"P\",\"F\",\"L\",\"W\",\"G\",\"Z\"]\n",
    "stacks = [stack1,stack2,stack3,stack4,stack5,stack6,stack7,stack8,stack9]\n",
    "indices = -4\n",
    "#print(stack5[indices:])\n",
    "with open(os.getcwd()+\"//..//input//inputday5.txt\") as f:\n",
    "    for line in islice(f,10,None):\n",
    "        num_boxes_to_move,take_stack,give_stack = re.findall(r'\\d+', line)\n",
    "        neg_indices = -1*int(num_boxes_to_move)\n",
    "        stacks[int(give_stack)-1].extend(stacks[int(take_stack)-1][neg_indices:])\n",
    "        stacks[int(take_stack)-1] = stacks[int(take_stack)-1][:neg_indices]\n",
    "top_boxes = \"\"\n",
    "for stack in stacks:\n",
    "    top_boxes = top_boxes + stack[-1]\n",
    "print(top_boxes)"
   ]
  }
 ],
 "metadata": {
  "kernelspec": {
   "display_name": "Python 3",
   "language": "python",
   "name": "python3"
  },
  "language_info": {
   "codemirror_mode": {
    "name": "ipython",
    "version": 3
   },
   "file_extension": ".py",
   "mimetype": "text/x-python",
   "name": "python",
   "nbconvert_exporter": "python",
   "pygments_lexer": "ipython3",
   "version": "3.7.7"
  }
 },
 "nbformat": 4,
 "nbformat_minor": 5
}
