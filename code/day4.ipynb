{
 "cells": [
  {
   "cell_type": "code",
   "execution_count": 2,
   "metadata": {},
   "outputs": [],
   "source": [
    "import os"
   ]
  },
  {
   "cell_type": "code",
   "execution_count": 34,
   "metadata": {},
   "outputs": [
    {
     "name": "stdout",
     "output_type": "stream",
     "text": [
      "852\n"
     ]
    }
   ],
   "source": [
    "# Part 1\n",
    "overlapping = 0\n",
    "with open(os.getcwd()+\"//..//input//inputday4.txt\") as f:\n",
    "    for ix, line in enumerate(f):\n",
    "        line = line.strip()\n",
    "        elf1,elf2 = line.split(\",\")\n",
    "        lower1,upper1 = elf1.split(\"-\")\n",
    "        lower2,upper2 = elf2.split(\"-\")\n",
    "        for elf1 in range(int(lower1),int(upper1)+1):\n",
    "            #print(elf1)\n",
    "            if elf1 in range(int(lower2),int(upper2)+1):\n",
    "                #print(\"row\" + repr(ix+1) + \" has \" + repr(elf1) + \" in common\")\n",
    "                overlapping += 1\n",
    "                break\n",
    "print(overlapping)"
   ]
  },
  {
   "cell_type": "code",
   "execution_count": 38,
   "metadata": {},
   "outputs": [
    {
     "name": "stdout",
     "output_type": "stream",
     "text": [
      "TPWCGNCCG\n"
     ]
    }
   ],
   "source": [
    "# Part 2\n",
    "with open(os.getcwd()+\"//..//input//inputday4.txt\") as f:\n",
    "    for line in f:\n",
    "        line = line.strip()"
   ]
  }
 ],
 "metadata": {
  "kernelspec": {
   "display_name": "Python 3",
   "language": "python",
   "name": "python3"
  },
  "language_info": {
   "codemirror_mode": {
    "name": "ipython",
    "version": 3
   },
   "file_extension": ".py",
   "mimetype": "text/x-python",
   "name": "python",
   "nbconvert_exporter": "python",
   "pygments_lexer": "ipython3",
   "version": "3.7.7"
  }
 },
 "nbformat": 4,
 "nbformat_minor": 5
}
