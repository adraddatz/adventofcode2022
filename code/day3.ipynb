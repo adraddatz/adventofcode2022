{
 "cells": [
  {
   "cell_type": "code",
   "execution_count": 4,
   "metadata": {},
   "outputs": [],
   "source": [
    "import os"
   ]
  },
  {
   "cell_type": "code",
   "execution_count": 37,
   "metadata": {},
   "outputs": [
    {
     "name": "stdout",
     "output_type": "stream",
     "text": [
      "fzTjvGbWDFcjSZLVhRGdhLWHZczZVHGghwWmDZsmzDqVtPJsVcfDGsCDrmhBHFgFjgJgWDdQWnbfZvPwCnNmjZnVdtNPLwFHgMrBDVfDnMrVZwWBLMpfqFlcjLQmGLSvhpFTPRbZnqdvVDWMFzGdsZsdzMrPTGZcQpbSFDFrpZnZvnfNnwpNfgnvnsdnCFHrlhpVPtwnMjqlJqzgPNdCQPNzCcvbRvPwFBHcvCtnjqtpzRlLwDHVZbWqQDrFDZRJzVlMZBfNJbhBpdhzCwBlLjRRhrLGSDTHQHWpJhjhJZHd\n",
      "8018\n"
     ]
    }
   ],
   "source": [
    "# Part 1\n",
    "common_letters = \"\"\n",
    "with open(os.getcwd()+\"//..//input//inputday3.txt\") as f:\n",
    "    for line in f:\n",
    "        line = line.strip()\n",
    "        first, second = line[:int(len(line)/2)],line[int(len(line)/2):]\n",
    "        for letter in first:\n",
    "            if letter in second:\n",
    "                common_letters += letter\n",
    "                break\n",
    "print(common_letters)\n",
    "value = 0\n",
    "for letter in common_letters:\n",
    "    if letter.isupper():\n",
    "        value += ord(letter)-38\n",
    "    else:\n",
    "        value += ord(letter)-96\n",
    "print(value)"
   ]
  },
  {
   "cell_type": "code",
   "execution_count": 21,
   "metadata": {},
   "outputs": [
    {
     "name": "stdout",
     "output_type": "stream",
     "text": [
      "10349\n"
     ]
    }
   ],
   "source": [
    "# Part 2\n",
    "common_letters = \"\"\n",
    "with open(os.getcwd()+\"//..//input//inputday3.txt\") as f:\n",
    "    num_elves = 0\n",
    "    elves = []\n",
    "    for line in f:\n",
    "        num_elves += 1\n",
    "        line = line.strip()\n",
    "        elves.append(line)\n",
    "        if num_elves == 3:\n",
    "            #print(elves)\n",
    "            for letter in elves[0]:\n",
    "                if letter in elves[1] and letter in elves[2]:\n",
    "                    common_letters += letter\n",
    "                    num_elves = 0\n",
    "                    elves = []\n",
    "                    break\n",
    "print(common_letters)\n",
    "value = 0\n",
    "for letter in common_letters:\n",
    "    if letter.isupper():\n",
    "        value += ord(letter)-38\n",
    "    else:\n",
    "        value += ord(letter)-96\n",
    "print(value)"
   ]
  },
  {
   "cell_type": "code",
   "execution_count": null,
   "metadata": {},
   "outputs": [],
   "source": []
  }
 ],
 "metadata": {
  "kernelspec": {
   "display_name": "Python 3",
   "language": "python",
   "name": "python3"
  },
  "language_info": {
   "codemirror_mode": {
    "name": "ipython",
    "version": 3
   },
   "file_extension": ".py",
   "mimetype": "text/x-python",
   "name": "python",
   "nbconvert_exporter": "python",
   "pygments_lexer": "ipython3",
   "version": "3.7.7"
  }
 },
 "nbformat": 4,
 "nbformat_minor": 5
}
